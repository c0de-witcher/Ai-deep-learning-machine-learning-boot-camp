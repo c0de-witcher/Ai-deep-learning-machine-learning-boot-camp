{
 "cells": [
  {
   "cell_type": "code",
   "execution_count": 17,
   "id": "05b593e4",
   "metadata": {},
   "outputs": [
    {
     "name": "stdout",
     "output_type": "stream",
     "text": [
      "Requirement already satisfied: numpy in .\\venv\\lib\\site-packages (2.2.6)\n"
     ]
    }
   ],
   "source": [
    "!pip install numpy"
   ]
  },
  {
   "cell_type": "code",
   "execution_count": 20,
   "id": "0999fd57",
   "metadata": {},
   "outputs": [
    {
     "name": "stdout",
     "output_type": "stream",
     "text": [
      "[1 2 3]\n",
      "<class 'numpy.ndarray'>\n",
      "(3,)\n"
     ]
    }
   ],
   "source": [
    "import numpy as np\n",
    "arr1 = np.array([1,2,3])\n",
    "print(arr1)\n",
    "print(type(arr1))\n",
    "print(arr1.shape)"
   ]
  },
  {
   "cell_type": "code",
   "execution_count": 23,
   "id": "7a430f96",
   "metadata": {},
   "outputs": [
    {
     "data": {
      "text/plain": [
       "array([[1],\n",
       "       [2],\n",
       "       [3],\n",
       "       [4]])"
      ]
     },
     "execution_count": 23,
     "metadata": {},
     "output_type": "execute_result"
    }
   ],
   "source": [
    "np.arange(1,5).reshape(4,1)\n"
   ]
  },
  {
   "cell_type": "code",
   "execution_count": 29,
   "id": "f9200a3c",
   "metadata": {},
   "outputs": [
    {
     "name": "stdout",
     "output_type": "stream",
     "text": [
      "[[1 2 3 4]\n",
      " [5 6 7 8]]\n",
      "2\n",
      "(2, 4)\n",
      "8\n",
      "int64\n",
      "8\n"
     ]
    }
   ],
   "source": [
    "arr2 = np.array([[1,2,3,4],[5,6,7,8]])\n",
    "print(arr2)\n",
    "print(arr2.ndim)\n",
    "print(arr2.shape)\n",
    "print(arr2.size)\n",
    "print(arr2.dtype)\n",
    "print(arr2.itemsize)"
   ]
  },
  {
   "cell_type": "code",
   "execution_count": 36,
   "id": "de01f8c5",
   "metadata": {},
   "outputs": [
    {
     "name": "stdout",
     "output_type": "stream",
     "text": [
      "[ 1  4  9 16]\n",
      "[ 2.71828183  7.3890561  20.08553692 54.59815003]\n"
     ]
    }
   ],
   "source": [
    "a = np.array([1,2,3,4])\n",
    "b= np.array([5,6,7,8])\n",
    "print(np.square(a))\n",
    "print(np.exp(a))"
   ]
  },
  {
   "cell_type": "code",
   "execution_count": null,
   "id": "c4cc3f6e",
   "metadata": {},
   "outputs": [
    {
     "name": "stdout",
     "output_type": "stream",
     "text": [
      "1\n",
      "[[4 5 6]\n",
      " [7 8 9]]\n",
      "[[2 3]\n",
      " [5 6]\n",
      " [8 9]]\n"
     ]
    }
   ],
   "source": [
    "arr = np.array([[1,2,3],[4,5,6],[7,8,9]])\n",
    "print(arr[0][0])\n",
    "print(arr[1:])\n",
    "print(arr[0:3,1:])"
   ]
  }
 ],
 "metadata": {
  "kernelspec": {
   "display_name": "Python 3",
   "language": "python",
   "name": "python3"
  },
  "language_info": {
   "codemirror_mode": {
    "name": "ipython",
    "version": 3
   },
   "file_extension": ".py",
   "mimetype": "text/x-python",
   "name": "python",
   "nbconvert_exporter": "python",
   "pygments_lexer": "ipython3",
   "version": "3.10.18"
  }
 },
 "nbformat": 4,
 "nbformat_minor": 5
}
