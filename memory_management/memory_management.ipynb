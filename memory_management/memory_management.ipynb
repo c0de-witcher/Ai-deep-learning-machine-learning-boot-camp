{
 "cells": [
  {
   "cell_type": "code",
   "execution_count": 2,
   "id": "7bab99f3",
   "metadata": {},
   "outputs": [
    {
     "name": "stdout",
     "output_type": "stream",
     "text": [
      "2\n"
     ]
    }
   ],
   "source": [
    "import sys\n",
    "\n",
    "a=[]\n",
    "\n",
    "print(sys.getrefcount(a))"
   ]
  },
  {
   "cell_type": "code",
   "execution_count": 3,
   "id": "47dbcdff",
   "metadata": {},
   "outputs": [],
   "source": [
    "#garbage collection\n",
    "\n",
    "import gc\n",
    "\n",
    "gc.enable()\n",
    "\n",
    "gc.disable()"
   ]
  },
  {
   "cell_type": "code",
   "execution_count": 6,
   "id": "2567644a",
   "metadata": {},
   "outputs": [
    {
     "name": "stdout",
     "output_type": "stream",
     "text": [
      "[{'collections': 194, 'collected': 1673, 'uncollectable': 0}, {'collections': 17, 'collected': 523, 'uncollectable': 0}, {'collections': 4, 'collected': 1088, 'uncollectable': 0}]\n",
      "[]\n"
     ]
    }
   ],
   "source": [
    "gc.collect()\n",
    "\n",
    "print(gc.get_stats())\n",
    "\n",
    "print(gc.garbage)"
   ]
  }
 ],
 "metadata": {
  "kernelspec": {
   "display_name": "venv",
   "language": "python",
   "name": "python3"
  },
  "language_info": {
   "codemirror_mode": {
    "name": "ipython",
    "version": 3
   },
   "file_extension": ".py",
   "mimetype": "text/x-python",
   "name": "python",
   "nbconvert_exporter": "python",
   "pygments_lexer": "ipython3",
   "version": "3.10.18"
  }
 },
 "nbformat": 4,
 "nbformat_minor": 5
}
