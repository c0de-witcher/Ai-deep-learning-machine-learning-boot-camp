{
 "cells": [
  {
   "cell_type": "code",
   "execution_count": 1,
   "id": "0005a483",
   "metadata": {},
   "outputs": [],
   "source": [
    "import sqlite3"
   ]
  },
  {
   "cell_type": "code",
   "execution_count": 2,
   "id": "7f307919",
   "metadata": {},
   "outputs": [
    {
     "data": {
      "text/plain": [
       "<sqlite3.Connection at 0x29a4b9e4c40>"
      ]
     },
     "execution_count": 2,
     "metadata": {},
     "output_type": "execute_result"
    }
   ],
   "source": [
    "#connect to the SQLite database\n",
    "conn = sqlite3.connect('example.db')\n",
    "conn"
   ]
  },
  {
   "cell_type": "code",
   "execution_count": 3,
   "id": "eb62bc1e",
   "metadata": {},
   "outputs": [],
   "source": [
    "cursor = conn.cursor()\n",
    "cursor.execute('''\n",
    "               CREATE TABLE IF NOT EXISTS employees(\n",
    "               id Integer PRIMARY KEY,\n",
    "               name Text NOT NULL,\n",
    "               age Integer ,\n",
    "               department Text NOT NULL)\n",
    "               ''')\n",
    "conn.commit()"
   ]
  },
  {
   "cell_type": "code",
   "execution_count": 5,
   "id": "c4608440",
   "metadata": {},
   "outputs": [
    {
     "data": {
      "text/plain": [
       "<sqlite3.Cursor at 0x29a4b92a6c0>"
      ]
     },
     "execution_count": 5,
     "metadata": {},
     "output_type": "execute_result"
    }
   ],
   "source": [
    "cursor.execute('''\n",
    "               Select * from employees\n",
    "               ''')"
   ]
  },
  {
   "cell_type": "code",
   "execution_count": 6,
   "id": "36dbf5b0",
   "metadata": {},
   "outputs": [],
   "source": [
    "cursor.execute('''\n",
    "insert into employees(name,age,department)\n",
    "               values('krish',32,'Data Scientist')\n",
    "                ''')\n",
    "conn.commit()"
   ]
  },
  {
   "cell_type": "code",
   "execution_count": 9,
   "id": "98963de9",
   "metadata": {},
   "outputs": [
    {
     "name": "stdout",
     "output_type": "stream",
     "text": [
      "(1, 'krish', 32, 'Data Scientist')\n"
     ]
    }
   ],
   "source": [
    "cursor.execute(''' \n",
    "select * from employees''')\n",
    "rows = cursor.fetchall()\n",
    "\n",
    "for row in rows:\n",
    "    print(row)"
   ]
  },
  {
   "cell_type": "code",
   "execution_count": 10,
   "id": "cd92c733",
   "metadata": {},
   "outputs": [],
   "source": [
    "cursor.execute(''' \n",
    "update employees\n",
    "               set age = 39\n",
    "               where name = 'krish'\n",
    "               ''')               \n",
    "conn.commit()"
   ]
  },
  {
   "cell_type": "code",
   "execution_count": 11,
   "id": "25674fc8",
   "metadata": {},
   "outputs": [
    {
     "name": "stdout",
     "output_type": "stream",
     "text": [
      "(1, 'krish', 39, 'Data Scientist')\n"
     ]
    }
   ],
   "source": [
    "cursor.execute(''' \n",
    "select * from employees''')\n",
    "rows = cursor.fetchall()\n",
    "\n",
    "for row in rows:\n",
    "    print(row)"
   ]
  },
  {
   "cell_type": "code",
   "execution_count": null,
   "id": "856a34ce",
   "metadata": {},
   "outputs": [],
   "source": []
  },
  {
   "cell_type": "code",
   "execution_count": 12,
   "id": "0cfc457d",
   "metadata": {},
   "outputs": [],
   "source": [
    "cursor.execute(''' \n",
    "delete from employees\n",
    "               where name = 'krish'\n",
    "               ''')               \n",
    "conn.commit()"
   ]
  },
  {
   "cell_type": "code",
   "execution_count": 13,
   "id": "8357e4a0",
   "metadata": {},
   "outputs": [],
   "source": [
    "cursor.execute(''' \n",
    "select * from employees''')\n",
    "rows = cursor.fetchall()\n",
    "\n",
    "for row in rows:\n",
    "    print(row)"
   ]
  },
  {
   "cell_type": "code",
   "execution_count": 14,
   "id": "52a93d2e",
   "metadata": {},
   "outputs": [],
   "source": [
    "cursor.execute('''\n",
    "insert into employees(name,age,department)\n",
    "               values('krish',32,'Data Scientist')\n",
    "                ''')\n",
    "conn.commit()"
   ]
  },
  {
   "cell_type": "code",
   "execution_count": 15,
   "id": "f780d881",
   "metadata": {},
   "outputs": [
    {
     "name": "stdout",
     "output_type": "stream",
     "text": [
      "(1, 'krish', 32, 'Data Scientist')\n"
     ]
    }
   ],
   "source": [
    "cursor.execute(''' \n",
    "select * from employees''')\n",
    "rows = cursor.fetchall()\n",
    "\n",
    "for row in rows:\n",
    "    print(row)"
   ]
  }
 ],
 "metadata": {
  "kernelspec": {
   "display_name": "Python 3",
   "language": "python",
   "name": "python3"
  },
  "language_info": {
   "codemirror_mode": {
    "name": "ipython",
    "version": 3
   },
   "file_extension": ".py",
   "mimetype": "text/x-python",
   "name": "python",
   "nbconvert_exporter": "python",
   "pygments_lexer": "ipython3",
   "version": "3.10.18"
  }
 },
 "nbformat": 4,
 "nbformat_minor": 5
}
