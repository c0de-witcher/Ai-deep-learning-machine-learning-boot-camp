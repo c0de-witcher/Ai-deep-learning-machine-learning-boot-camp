{
 "cells": [
  {
   "cell_type": "code",
   "execution_count": 2,
   "id": "133d2a16",
   "metadata": {},
   "outputs": [],
   "source": [
    "import logging"
   ]
  },
  {
   "cell_type": "code",
   "execution_count": 6,
   "id": "2d00f4ef",
   "metadata": {},
   "outputs": [
    {
     "name": "stderr",
     "output_type": "stream",
     "text": [
      "DEBUG:root:This is a debug message\n",
      "INFO:root:this is an info message\n",
      "WARNING:root:this is a waring message\n",
      "ERROR:root:this is an error message\n",
      "CRITICAL:root:this is a critical message\n",
      "ERROR:root:this is an exception message\n",
      "NoneType: None\n"
     ]
    }
   ],
   "source": [
    "##configure the logging\n",
    "logging.basicConfig(level = logging.DEBUG)\n",
    "\n",
    "logging.debug('This is a debug message')\n",
    "logging.info(\"this is an info message\")\n",
    "logging.warning(\"this is a waring message\")\n",
    "logging.error(\"this is an error message\")\n",
    "logging.critical(\"this is a critical message\")\n",
    "logging.exception(\"this is an exception message\")"
   ]
  },
  {
   "cell_type": "code",
   "execution_count": 3,
   "id": "1d7a704d",
   "metadata": {},
   "outputs": [],
   "source": [
    "logging.basicConfig(\n",
    "    filename='app.log',\n",
    "    filemode='w',\n",
    "    format='%(asctime)s-%(name)s-%(levelname)s-%(message)s',\n",
    "    datefmt='%Y-%M-%D %H:%M:%S'\n",
    ")\n",
    "\n",
    "logging.debug('This is a debug message')\n",
    "logging.info(\"this is an info message\")\n",
    "logging.warning(\"this is a waring message\")\n",
    "logging.error(\"this is an error message\")\n",
    "logging.critical(\"this is a critical message\")\n",
    "logging.exception(\"this is an exception message\")\n"
   ]
  },
  {
   "cell_type": "code",
   "execution_count": null,
   "id": "f4d9371d",
   "metadata": {},
   "outputs": [],
   "source": []
  },
  {
   "cell_type": "code",
   "execution_count": null,
   "id": "0abcea00",
   "metadata": {},
   "outputs": [],
   "source": []
  }
 ],
 "metadata": {
  "kernelspec": {
   "display_name": "Python 3",
   "language": "python",
   "name": "python3"
  },
  "language_info": {
   "codemirror_mode": {
    "name": "ipython",
    "version": 3
   },
   "file_extension": ".py",
   "mimetype": "text/x-python",
   "name": "python",
   "nbconvert_exporter": "python",
   "pygments_lexer": "ipython3",
   "version": "3.10.18"
  }
 },
 "nbformat": 4,
 "nbformat_minor": 5
}
