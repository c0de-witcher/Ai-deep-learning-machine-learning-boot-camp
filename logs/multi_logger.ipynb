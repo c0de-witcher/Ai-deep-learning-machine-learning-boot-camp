{
 "cells": [
  {
   "cell_type": "code",
   "execution_count": 3,
   "id": "2fb4abc9",
   "metadata": {},
   "outputs": [],
   "source": [
    "import logging"
   ]
  },
  {
   "cell_type": "code",
   "execution_count": 6,
   "id": "368fdf2b",
   "metadata": {},
   "outputs": [],
   "source": [
    "logger1 = logging.getLogger('Module1')\n",
    "logger2 = logging.getLogger('Module2')\n",
    "\n",
    "logger1.setLevel(logging.DEBUG)\n",
    "logger2.setLevel(logging.WARNING)\n",
    "\n",
    "logging.basicConfig(\n",
    "    level = logging.DEBUG,\n",
    "    format = '%(asctime)s-%(name)s - %(levelname)s - %(message)s',\n",
    "    datefmt = '%Y-%m-%d %H:%M:%S'\n",
    ")"
   ]
  },
  {
   "cell_type": "code",
   "execution_count": 7,
   "id": "22c51b1d",
   "metadata": {},
   "outputs": [
    {
     "name": "stderr",
     "output_type": "stream",
     "text": [
      "2025-07-28 20:42:50-Module1 - DEBUG - This is a debug message from Module1\n",
      "2025-07-28 20:42:50-Module2 - WARNING - This is a warning message from Module2\n"
     ]
    }
   ],
   "source": [
    "logger1.debug('This is a debug message from Module1')\n",
    "logger2.warning('This is a warning message from Module2')"
   ]
  }
 ],
 "metadata": {
  "kernelspec": {
   "display_name": "venv",
   "language": "python",
   "name": "python3"
  },
  "language_info": {
   "codemirror_mode": {
    "name": "ipython",
    "version": 3
   },
   "file_extension": ".py",
   "mimetype": "text/x-python",
   "name": "python",
   "nbconvert_exporter": "python",
   "pygments_lexer": "ipython3",
   "version": "3.10.18"
  }
 },
 "nbformat": 4,
 "nbformat_minor": 5
}
